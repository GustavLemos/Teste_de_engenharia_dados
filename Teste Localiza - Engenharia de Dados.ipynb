{
 "cells": [
  {
   "cell_type": "markdown",
   "metadata": {
    "application/vnd.databricks.v1+cell": {
     "cellMetadata": {
      "byteLimit": 2048000,
      "rowLimit": 10000
     },
     "inputWidgets": {},
     "nuid": "96816ed7-b08a-4ca3-abb9-f99880c3535d",
     "showTitle": false,
     "tableResultSettingsMap": {},
     "title": ""
    }
   },
   "source": [
    "\n",
    "## Teste Localiza - Engenharia de Dados\n",
    "### Autor: Gustavo Lemos\n",
    "### Data: 11/11/24\n",
    "---"
   ]
  },
  {
   "cell_type": "markdown",
   "metadata": {
    "application/vnd.databricks.v1+cell": {
     "cellMetadata": {
      "byteLimit": 2048000,
      "rowLimit": 10000
     },
     "inputWidgets": {},
     "nuid": "563700b2-9819-41f2-97d5-c7ff0e727a57",
     "showTitle": false,
     "tableResultSettingsMap": {},
     "title": ""
    }
   },
   "source": [
    "### 1. Ingestão e formato - Lendo arquivo csv do FileStore DBFS e transformando em parquet"
   ]
  },
  {
   "cell_type": "code",
   "execution_count": 0,
   "metadata": {
    "application/vnd.databricks.v1+cell": {
     "cellMetadata": {
      "byteLimit": 2048000,
      "rowLimit": 10000
     },
     "inputWidgets": {},
     "nuid": "6482be4c-f067-47c9-b0ac-35c938b94601",
     "showTitle": false,
     "tableResultSettingsMap": {},
     "title": ""
    }
   },
   "outputs": [
    {
     "output_type": "display_data",
     "data": {
      "text/html": [
       "<style scoped>\n",
       "  .table-result-container {\n",
       "    max-height: 300px;\n",
       "    overflow: auto;\n",
       "  }\n",
       "  table, th, td {\n",
       "    border: 1px solid black;\n",
       "    border-collapse: collapse;\n",
       "  }\n",
       "  th, td {\n",
       "    padding: 5px;\n",
       "  }\n",
       "  th {\n",
       "    text-align: left;\n",
       "  }\n",
       "</style><div class='table-result-container'><table class='table-result'><thead style='background-color: white'><tr><th>timestamp</th><th>sending_address</th><th>receiving_address</th><th>amount</th><th>transaction_type</th><th>location_region</th><th>ip_prefix</th><th>login_frequency</th><th>session_duration</th><th>purchase_pattern</th><th>age_group</th><th>risk_score</th><th>anomaly</th></tr></thead><tbody><tr><td>1618185002</td><td>0x9d32d0bf2c00f41ce7ca01b66e174cc4dcb0c1da</td><td>0x39f82e1c09bc6d7baccc1e79e5621ff812f50572</td><td>67435.0</td><td>transfer</td><td>Europe</td><td>192.0</td><td>3</td><td>48</td><td>focused</td><td>established</td><td>18.75</td><td>low_risk</td></tr><tr><td>1698642474</td><td>0xd6e251c23cbf52dbd472f079147873e655d8096f</td><td>0x51e8fbe24f124e0e30a614e14401b9bbfed5384c</td><td>1.0</td><td>purchase</td><td>South America</td><td>172.0</td><td>5</td><td>61</td><td>focused</td><td>established</td><td>25.0</td><td>low_risk</td></tr><tr><td>1619180066</td><td>0x2e0925b922fed01f6a85d213ae2718f54b8ca305</td><td>0x52c7911879f783d590af45bda0c0ef2b8536706f</td><td>66211.0</td><td>purchase</td><td>Asia</td><td>192.168</td><td>3</td><td>74</td><td>focused</td><td>established</td><td>31.25</td><td>low_risk</td></tr><tr><td>1591413882</td><td>0x93efefc25fcaf31d7695f28018d7a11ece55457f</td><td>0x8ac3b7bd531b3a833032f07d4e47c7af6ea7bace</td><td>14998.0</td><td>transfer</td><td>South America</td><td>172.0</td><td>8</td><td>111</td><td>high_value</td><td>veteran</td><td>36.75</td><td>low_risk</td></tr><tr><td>1611257295</td><td>0xad3b8de45d63f5cce28aef9a82cf30c397c6ceb9</td><td>0x6fdc047c2391615b3facd79b4588c7e9106e49f2</td><td>66002.0</td><td>sale</td><td>Africa</td><td>172.16</td><td>6</td><td>100</td><td>high_value</td><td>veteran</td><td>62.5</td><td>moderate_risk</td></tr></tbody></table></div>"
      ]
     },
     "metadata": {
      "application/vnd.databricks.v1+output": {
       "addedWidgets": {},
       "aggData": [],
       "aggError": "",
       "aggOverflow": false,
       "aggSchema": [],
       "aggSeriesLimitReached": false,
       "aggType": "",
       "arguments": {},
       "columnCustomDisplayInfos": {},
       "data": [
        [
         1618185002,
         "0x9d32d0bf2c00f41ce7ca01b66e174cc4dcb0c1da",
         "0x39f82e1c09bc6d7baccc1e79e5621ff812f50572",
         "67435.0",
         "transfer",
         "Europe",
         192.0,
         3,
         48,
         "focused",
         "established",
         "18.75",
         "low_risk"
        ],
        [
         1698642474,
         "0xd6e251c23cbf52dbd472f079147873e655d8096f",
         "0x51e8fbe24f124e0e30a614e14401b9bbfed5384c",
         "1.0",
         "purchase",
         "South America",
         172.0,
         5,
         61,
         "focused",
         "established",
         "25.0",
         "low_risk"
        ],
        [
         1619180066,
         "0x2e0925b922fed01f6a85d213ae2718f54b8ca305",
         "0x52c7911879f783d590af45bda0c0ef2b8536706f",
         "66211.0",
         "purchase",
         "Asia",
         192.168,
         3,
         74,
         "focused",
         "established",
         "31.25",
         "low_risk"
        ],
        [
         1591413882,
         "0x93efefc25fcaf31d7695f28018d7a11ece55457f",
         "0x8ac3b7bd531b3a833032f07d4e47c7af6ea7bace",
         "14998.0",
         "transfer",
         "South America",
         172.0,
         8,
         111,
         "high_value",
         "veteran",
         "36.75",
         "low_risk"
        ],
        [
         1611257295,
         "0xad3b8de45d63f5cce28aef9a82cf30c397c6ceb9",
         "0x6fdc047c2391615b3facd79b4588c7e9106e49f2",
         "66002.0",
         "sale",
         "Africa",
         172.16,
         6,
         100,
         "high_value",
         "veteran",
         "62.5",
         "moderate_risk"
        ]
       ],
       "datasetInfos": [],
       "dbfsResultPath": null,
       "isJsonSchema": true,
       "metadata": {},
       "overflow": false,
       "plotOptions": {
        "customPlotOptions": {},
        "displayType": "table",
        "pivotAggregation": null,
        "pivotColumns": null,
        "xColumns": null,
        "yColumns": null
       },
       "removedWidgets": [],
       "schema": [
        {
         "metadata": "{}",
         "name": "timestamp",
         "type": "\"long\""
        },
        {
         "metadata": "{}",
         "name": "sending_address",
         "type": "\"string\""
        },
        {
         "metadata": "{}",
         "name": "receiving_address",
         "type": "\"string\""
        },
        {
         "metadata": "{}",
         "name": "amount",
         "type": "\"string\""
        },
        {
         "metadata": "{}",
         "name": "transaction_type",
         "type": "\"string\""
        },
        {
         "metadata": "{}",
         "name": "location_region",
         "type": "\"string\""
        },
        {
         "metadata": "{}",
         "name": "ip_prefix",
         "type": "\"double\""
        },
        {
         "metadata": "{}",
         "name": "login_frequency",
         "type": "\"long\""
        },
        {
         "metadata": "{}",
         "name": "session_duration",
         "type": "\"long\""
        },
        {
         "metadata": "{}",
         "name": "purchase_pattern",
         "type": "\"string\""
        },
        {
         "metadata": "{}",
         "name": "age_group",
         "type": "\"string\""
        },
        {
         "metadata": "{}",
         "name": "risk_score",
         "type": "\"string\""
        },
        {
         "metadata": "{}",
         "name": "anomaly",
         "type": "\"string\""
        }
       ],
       "type": "table"
      }
     },
     "output_type": "display_data"
    },
    {
     "output_type": "stream",
     "name": "stdout",
     "output_type": "stream",
     "text": [
      "Total de registros: 9291894\n"
     ]
    },
    {
     "output_type": "display_data",
     "data": {
      "text/html": [
       "<style scoped>\n",
       "  .table-result-container {\n",
       "    max-height: 300px;\n",
       "    overflow: auto;\n",
       "  }\n",
       "  table, th, td {\n",
       "    border: 1px solid black;\n",
       "    border-collapse: collapse;\n",
       "  }\n",
       "  th, td {\n",
       "    padding: 5px;\n",
       "  }\n",
       "  th {\n",
       "    text-align: left;\n",
       "  }\n",
       "</style><div class='table-result-container'><table class='table-result'><thead style='background-color: white'><tr><th>timestamp</th><th>sending_address</th><th>receiving_address</th><th>amount</th><th>transaction_type</th><th>location_region</th><th>ip_prefix</th><th>login_frequency</th><th>session_duration</th><th>purchase_pattern</th><th>age_group</th><th>risk_score</th><th>anomaly</th></tr></thead><tbody><tr><td>1685650065</td><td>0x5297edd262e7084608cbbcb8d666c86b4740ce6c</td><td>0x84df8a4e93edd124a95b6e0c034cba4b783c9ed9</td><td>57785.0</td><td>sale</td><td>Europe</td><td>10.0</td><td>1</td><td>28</td><td>random</td><td>new</td><td>42.0</td><td>low_risk</td></tr><tr><td>1606499942</td><td>0x927f8801cf6073f5b6da2df4def5f548735e7062</td><td>0xcdcace0693e828baa1857ee5b127419bb5e7fc56</td><td>36016.0</td><td>transfer</td><td>North America</td><td>10.0</td><td>1</td><td>39</td><td>random</td><td>new</td><td>26.25</td><td>low_risk</td></tr><tr><td>1626687883</td><td>0xe5c91f67af87a0e20267b290e32eadab60cb044c</td><td>0x4ee64b1d1704498a40940040f28c6109d5b9c1ce</td><td>62972.0</td><td>sale</td><td>South America</td><td>192.168</td><td>8</td><td>136</td><td>high_value</td><td>veteran</td><td>84.375</td><td>moderate_risk</td></tr><tr><td>1658934355</td><td>0x29eb22d2110b8a73ee78542975d2fb701f31929a</td><td>0x11f40ae67f6b648e8b4bbc2d1a04c665214f7d25</td><td>71192.0</td><td>transfer</td><td>Africa</td><td>192.0</td><td>8</td><td>98</td><td>high_value</td><td>veteran</td><td>43.75</td><td>low_risk</td></tr><tr><td>1679189913</td><td>0xd5a98e35d92b478ad4dbefdf2b55b22f331043dc</td><td>0xb66b0ca73fe4f58fbc2485b46474688d9913753e</td><td>31251.0</td><td>sale</td><td>South America</td><td>192.0</td><td>2</td><td>29</td><td>random</td><td>new</td><td>42.0</td><td>low_risk</td></tr></tbody></table></div>"
      ]
     },
     "metadata": {
      "application/vnd.databricks.v1+output": {
       "addedWidgets": {},
       "aggData": [],
       "aggError": "",
       "aggOverflow": false,
       "aggSchema": [],
       "aggSeriesLimitReached": false,
       "aggType": "",
       "arguments": {},
       "columnCustomDisplayInfos": {},
       "data": [
        [
         1685650065,
         "0x5297edd262e7084608cbbcb8d666c86b4740ce6c",
         "0x84df8a4e93edd124a95b6e0c034cba4b783c9ed9",
         "57785.0",
         "sale",
         "Europe",
         10.0,
         1,
         28,
         "random",
         "new",
         "42.0",
         "low_risk"
        ],
        [
         1606499942,
         "0x927f8801cf6073f5b6da2df4def5f548735e7062",
         "0xcdcace0693e828baa1857ee5b127419bb5e7fc56",
         "36016.0",
         "transfer",
         "North America",
         10.0,
         1,
         39,
         "random",
         "new",
         "26.25",
         "low_risk"
        ],
        [
         1626687883,
         "0xe5c91f67af87a0e20267b290e32eadab60cb044c",
         "0x4ee64b1d1704498a40940040f28c6109d5b9c1ce",
         "62972.0",
         "sale",
         "South America",
         192.168,
         8,
         136,
         "high_value",
         "veteran",
         "84.375",
         "moderate_risk"
        ],
        [
         1658934355,
         "0x29eb22d2110b8a73ee78542975d2fb701f31929a",
         "0x11f40ae67f6b648e8b4bbc2d1a04c665214f7d25",
         "71192.0",
         "transfer",
         "Africa",
         192.0,
         8,
         98,
         "high_value",
         "veteran",
         "43.75",
         "low_risk"
        ],
        [
         1679189913,
         "0xd5a98e35d92b478ad4dbefdf2b55b22f331043dc",
         "0xb66b0ca73fe4f58fbc2485b46474688d9913753e",
         "31251.0",
         "sale",
         "South America",
         192.0,
         2,
         29,
         "random",
         "new",
         "42.0",
         "low_risk"
        ]
       ],
       "datasetInfos": [],
       "dbfsResultPath": null,
       "isJsonSchema": true,
       "metadata": {},
       "overflow": false,
       "plotOptions": {
        "customPlotOptions": {},
        "displayType": "table",
        "pivotAggregation": null,
        "pivotColumns": null,
        "xColumns": null,
        "yColumns": null
       },
       "removedWidgets": [],
       "schema": [
        {
         "metadata": "{}",
         "name": "timestamp",
         "type": "\"long\""
        },
        {
         "metadata": "{}",
         "name": "sending_address",
         "type": "\"string\""
        },
        {
         "metadata": "{}",
         "name": "receiving_address",
         "type": "\"string\""
        },
        {
         "metadata": "{}",
         "name": "amount",
         "type": "\"string\""
        },
        {
         "metadata": "{}",
         "name": "transaction_type",
         "type": "\"string\""
        },
        {
         "metadata": "{}",
         "name": "location_region",
         "type": "\"string\""
        },
        {
         "metadata": "{}",
         "name": "ip_prefix",
         "type": "\"double\""
        },
        {
         "metadata": "{}",
         "name": "login_frequency",
         "type": "\"long\""
        },
        {
         "metadata": "{}",
         "name": "session_duration",
         "type": "\"long\""
        },
        {
         "metadata": "{}",
         "name": "purchase_pattern",
         "type": "\"string\""
        },
        {
         "metadata": "{}",
         "name": "age_group",
         "type": "\"string\""
        },
        {
         "metadata": "{}",
         "name": "risk_score",
         "type": "\"string\""
        },
        {
         "metadata": "{}",
         "name": "anomaly",
         "type": "\"string\""
        }
       ],
       "type": "table"
      }
     },
     "output_type": "display_data"
    },
    {
     "output_type": "stream",
     "name": "stdout",
     "output_type": "stream",
     "text": [
      "Total de registros no Parquet: 9291894\n"
     ]
    }
   ],
   "source": [
    "# File location and type for CSV input\n",
    "file_location = \"/FileStore/tables/df_fraud_credit.csv\"\n",
    "file_type = \"csv\"\n",
    "\n",
    "# CSV options\n",
    "infer_schema = \"true\"\n",
    "first_row_is_header = \"true\"\n",
    "delimiter = \",\"\n",
    "\n",
    "# Carregar o arquivo CSV para um DataFrame\n",
    "df = spark.read.format(file_type) \\\n",
    "  .option(\"inferSchema\", infer_schema) \\\n",
    "  .option(\"header\", first_row_is_header) \\\n",
    "  .option(\"sep\", delimiter) \\\n",
    "  .load(file_location)\n",
    "\n",
    "# Exibir as primeiras 5 linhas do DataFrame carregado\n",
    "display(df.head(5))\n",
    "\n",
    "# Contar o número total de registros\n",
    "print(f\"Total de registros: {df.count()}\")\n",
    "\n",
    "# Definir o local onde o arquivo Parquet será salvo\n",
    "parquet_location = \"/FileStore/tables/table_fraud_credit.parquet\"\n",
    "\n",
    "# Salvar o DataFrame como um arquivo Parquet\n",
    "df.write.format(\"parquet\").mode(\"overwrite\").save(parquet_location)\n",
    "\n",
    "# Ler o arquivo Parquet de volta para verificar\n",
    "df_parquet = spark.read.format(\"parquet\").load(parquet_location)\n",
    "\n",
    "# Exibir as primeiras 5 linhas do DataFrame Parquet\n",
    "display(df_parquet.head(5))\n",
    "\n",
    "# Contar o número de registros no DataFrame Parquet\n",
    "print(f\"Total de registros no Parquet: {df_parquet.count()}\")\n"
   ]
  },
  {
   "cell_type": "markdown",
   "metadata": {
    "application/vnd.databricks.v1+cell": {
     "cellMetadata": {
      "byteLimit": 2048000,
      "rowLimit": 10000
     },
     "inputWidgets": {},
     "nuid": "72e9e192-f550-4ff2-ac24-caf89b545307",
     "showTitle": false,
     "tableResultSettingsMap": {},
     "title": ""
    }
   },
   "source": [
    "---\n",
    "### 2. Limpeza dos Dados\n",
    "Para limpeza, vamos tratar dados ausentes e fazer algumas transformações no formato de dados."
   ]
  },
  {
   "cell_type": "code",
   "execution_count": 0,
   "metadata": {
    "application/vnd.databricks.v1+cell": {
     "cellMetadata": {
      "byteLimit": 2048000,
      "rowLimit": 10000
     },
     "inputWidgets": {},
     "nuid": "db9631f6-bb4a-42ca-8a3c-0d48af932331",
     "showTitle": false,
     "tableResultSettingsMap": {},
     "title": ""
    }
   },
   "outputs": [
    {
     "output_type": "display_data",
     "data": {
      "text/html": [
       "<style scoped>\n",
       "  .table-result-container {\n",
       "    max-height: 300px;\n",
       "    overflow: auto;\n",
       "  }\n",
       "  table, th, td {\n",
       "    border: 1px solid black;\n",
       "    border-collapse: collapse;\n",
       "  }\n",
       "  th, td {\n",
       "    padding: 5px;\n",
       "  }\n",
       "  th {\n",
       "    text-align: left;\n",
       "  }\n",
       "</style><div class='table-result-container'><table class='table-result'><thead style='background-color: white'><tr><th>timestamp</th><th>sending_address</th><th>receiving_address</th><th>amount</th><th>transaction_type</th><th>location_region</th><th>ip_prefix</th><th>login_frequency</th><th>session_duration</th><th>purchase_pattern</th><th>age_group</th><th>risk_score</th><th>anomaly</th></tr></thead><tbody><tr><td>2023-06-01T20:07:45.000+0000</td><td>0x5297edd262e7084608cbbcb8d666c86b4740ce6c</td><td>0x84df8a4e93edd124a95b6e0c034cba4b783c9ed9</td><td>57785.0</td><td>sale</td><td>Europe</td><td>10.0</td><td>1</td><td>28</td><td>random</td><td>new</td><td>42.0</td><td>low_risk</td></tr><tr><td>2020-11-27T17:59:02.000+0000</td><td>0x927f8801cf6073f5b6da2df4def5f548735e7062</td><td>0xcdcace0693e828baa1857ee5b127419bb5e7fc56</td><td>36016.0</td><td>transfer</td><td>North America</td><td>10.0</td><td>1</td><td>39</td><td>random</td><td>new</td><td>26.25</td><td>low_risk</td></tr><tr><td>2021-07-19T09:44:43.000+0000</td><td>0xe5c91f67af87a0e20267b290e32eadab60cb044c</td><td>0x4ee64b1d1704498a40940040f28c6109d5b9c1ce</td><td>62972.0</td><td>sale</td><td>South America</td><td>192.168</td><td>8</td><td>136</td><td>high_value</td><td>veteran</td><td>84.375</td><td>moderate_risk</td></tr><tr><td>2022-07-27T15:05:55.000+0000</td><td>0x29eb22d2110b8a73ee78542975d2fb701f31929a</td><td>0x11f40ae67f6b648e8b4bbc2d1a04c665214f7d25</td><td>71192.0</td><td>transfer</td><td>Africa</td><td>192.0</td><td>8</td><td>98</td><td>high_value</td><td>veteran</td><td>43.75</td><td>low_risk</td></tr><tr><td>2023-03-19T01:38:33.000+0000</td><td>0xd5a98e35d92b478ad4dbefdf2b55b22f331043dc</td><td>0xb66b0ca73fe4f58fbc2485b46474688d9913753e</td><td>31251.0</td><td>sale</td><td>South America</td><td>192.0</td><td>2</td><td>29</td><td>random</td><td>new</td><td>42.0</td><td>low_risk</td></tr><tr><td>2023-07-17T12:00:32.000+0000</td><td>0x927eb5472ae6124e561287052ba08e71b72ab8c5</td><td>0x2c1a91f45c0decdbf8c2b84abdb0a349237f7f41</td><td>72296.0</td><td>purchase</td><td>Africa</td><td>10.0</td><td>3</td><td>71</td><td>focused</td><td>established</td><td>31.25</td><td>low_risk</td></tr><tr><td>2020-09-18T06:04:30.000+0000</td><td>0x992ff96a3bf0676cef2d26d0276b27456ce19e7b</td><td>0xe2464122a2d71df4324151c8f7572ef23f5dd0ab</td><td>1248.0</td><td>transfer</td><td>South America</td><td>192.168</td><td>3</td><td>64</td><td>focused</td><td>established</td><td>15.0</td><td>low_risk</td></tr><tr><td>2021-08-01T11:31:23.000+0000</td><td>0xd1b28593139022c70b1d5e370cc800226efbf072</td><td>0x927f8801cf6073f5b6da2df4def5f548735e7062</td><td>66542.0</td><td>purchase</td><td>Europe</td><td>192.168</td><td>5</td><td>67</td><td>focused</td><td>established</td><td>31.25</td><td>low_risk</td></tr><tr><td>2021-04-25T08:35:12.000+0000</td><td>0x0bdc9e8dd3cf34b207a2f547f45a23e5808d84fb</td><td>0xb69b3912979ac2571f86843000a21c6c5ce84342</td><td>74674.0</td><td>transfer</td><td>South America</td><td>192.0</td><td>5</td><td>54</td><td>focused</td><td>established</td><td>18.75</td><td>low_risk</td></tr><tr><td>2020-01-23T23:09:43.000+0000</td><td>0xf8455a61277886b577be973b0401a1fb3ded50e6</td><td>0x3108e1d0956526998fc5cc8a008ea4fed631162b</td><td>24966.0</td><td>sale</td><td>North America</td><td>192.168</td><td>7</td><td>131</td><td>high_value</td><td>veteran</td><td>52.5</td><td>low_risk</td></tr></tbody></table></div>"
      ]
     },
     "metadata": {
      "application/vnd.databricks.v1+output": {
       "addedWidgets": {},
       "aggData": [],
       "aggError": "",
       "aggOverflow": false,
       "aggSchema": [],
       "aggSeriesLimitReached": false,
       "aggType": "",
       "arguments": {},
       "columnCustomDisplayInfos": {},
       "data": [
        [
         "2023-06-01T20:07:45.000+0000",
         "0x5297edd262e7084608cbbcb8d666c86b4740ce6c",
         "0x84df8a4e93edd124a95b6e0c034cba4b783c9ed9",
         "57785.0",
         "sale",
         "Europe",
         10.0,
         1,
         28,
         "random",
         "new",
         "42.0",
         "low_risk"
        ],
        [
         "2020-11-27T17:59:02.000+0000",
         "0x927f8801cf6073f5b6da2df4def5f548735e7062",
         "0xcdcace0693e828baa1857ee5b127419bb5e7fc56",
         "36016.0",
         "transfer",
         "North America",
         10.0,
         1,
         39,
         "random",
         "new",
         "26.25",
         "low_risk"
        ],
        [
         "2021-07-19T09:44:43.000+0000",
         "0xe5c91f67af87a0e20267b290e32eadab60cb044c",
         "0x4ee64b1d1704498a40940040f28c6109d5b9c1ce",
         "62972.0",
         "sale",
         "South America",
         192.168,
         8,
         136,
         "high_value",
         "veteran",
         "84.375",
         "moderate_risk"
        ],
        [
         "2022-07-27T15:05:55.000+0000",
         "0x29eb22d2110b8a73ee78542975d2fb701f31929a",
         "0x11f40ae67f6b648e8b4bbc2d1a04c665214f7d25",
         "71192.0",
         "transfer",
         "Africa",
         192.0,
         8,
         98,
         "high_value",
         "veteran",
         "43.75",
         "low_risk"
        ],
        [
         "2023-03-19T01:38:33.000+0000",
         "0xd5a98e35d92b478ad4dbefdf2b55b22f331043dc",
         "0xb66b0ca73fe4f58fbc2485b46474688d9913753e",
         "31251.0",
         "sale",
         "South America",
         192.0,
         2,
         29,
         "random",
         "new",
         "42.0",
         "low_risk"
        ],
        [
         "2023-07-17T12:00:32.000+0000",
         "0x927eb5472ae6124e561287052ba08e71b72ab8c5",
         "0x2c1a91f45c0decdbf8c2b84abdb0a349237f7f41",
         "72296.0",
         "purchase",
         "Africa",
         10.0,
         3,
         71,
         "focused",
         "established",
         "31.25",
         "low_risk"
        ],
        [
         "2020-09-18T06:04:30.000+0000",
         "0x992ff96a3bf0676cef2d26d0276b27456ce19e7b",
         "0xe2464122a2d71df4324151c8f7572ef23f5dd0ab",
         "1248.0",
         "transfer",
         "South America",
         192.168,
         3,
         64,
         "focused",
         "established",
         "15.0",
         "low_risk"
        ],
        [
         "2021-08-01T11:31:23.000+0000",
         "0xd1b28593139022c70b1d5e370cc800226efbf072",
         "0x927f8801cf6073f5b6da2df4def5f548735e7062",
         "66542.0",
         "purchase",
         "Europe",
         192.168,
         5,
         67,
         "focused",
         "established",
         "31.25",
         "low_risk"
        ],
        [
         "2021-04-25T08:35:12.000+0000",
         "0x0bdc9e8dd3cf34b207a2f547f45a23e5808d84fb",
         "0xb69b3912979ac2571f86843000a21c6c5ce84342",
         "74674.0",
         "transfer",
         "South America",
         192.0,
         5,
         54,
         "focused",
         "established",
         "18.75",
         "low_risk"
        ],
        [
         "2020-01-23T23:09:43.000+0000",
         "0xf8455a61277886b577be973b0401a1fb3ded50e6",
         "0x3108e1d0956526998fc5cc8a008ea4fed631162b",
         "24966.0",
         "sale",
         "North America",
         192.168,
         7,
         131,
         "high_value",
         "veteran",
         "52.5",
         "low_risk"
        ]
       ],
       "datasetInfos": [],
       "dbfsResultPath": null,
       "isJsonSchema": true,
       "metadata": {},
       "overflow": false,
       "plotOptions": {
        "customPlotOptions": {},
        "displayType": "table",
        "pivotAggregation": null,
        "pivotColumns": null,
        "xColumns": null,
        "yColumns": null
       },
       "removedWidgets": [],
       "schema": [
        {
         "metadata": "{}",
         "name": "timestamp",
         "type": "\"timestamp\""
        },
        {
         "metadata": "{}",
         "name": "sending_address",
         "type": "\"string\""
        },
        {
         "metadata": "{}",
         "name": "receiving_address",
         "type": "\"string\""
        },
        {
         "metadata": "{}",
         "name": "amount",
         "type": "\"string\""
        },
        {
         "metadata": "{}",
         "name": "transaction_type",
         "type": "\"string\""
        },
        {
         "metadata": "{}",
         "name": "location_region",
         "type": "\"string\""
        },
        {
         "metadata": "{}",
         "name": "ip_prefix",
         "type": "\"double\""
        },
        {
         "metadata": "{}",
         "name": "login_frequency",
         "type": "\"long\""
        },
        {
         "metadata": "{}",
         "name": "session_duration",
         "type": "\"long\""
        },
        {
         "metadata": "{}",
         "name": "purchase_pattern",
         "type": "\"string\""
        },
        {
         "metadata": "{}",
         "name": "age_group",
         "type": "\"string\""
        },
        {
         "metadata": "{}",
         "name": "risk_score",
         "type": "\"string\""
        },
        {
         "metadata": "{}",
         "name": "anomaly",
         "type": "\"string\""
        }
       ],
       "type": "table"
      }
     },
     "output_type": "display_data"
    },
    {
     "output_type": "stream",
     "name": "stdout",
     "output_type": "stream",
     "text": [
      "9291894\n"
     ]
    }
   ],
   "source": [
    "# Remover registros com valores nulos ou inconsistentes\n",
    "df_cleaned = df_parquet.dropna()  # Remove as linhas com valores nulos\n",
    "df_cleaned = df_cleaned.filter(df_cleaned[\"amount\"].isNotNull())  # Garantir que 'amount' não seja nulo\n",
    "\n",
    "# Converter tipos de dados onde necessário (exemplo: timestamp)\n",
    "from pyspark.sql.functions import col\n",
    "\n",
    "df_cleaned = df_cleaned.withColumn(\"timestamp\", col(\"timestamp\").cast(\"timestamp\"))\n",
    "\n",
    "display(df_cleaned.head(10))\n",
    "print(df_cleaned.count())\n"
   ]
  },
  {
   "cell_type": "code",
   "execution_count": 0,
   "metadata": {
    "application/vnd.databricks.v1+cell": {
     "cellMetadata": {
      "byteLimit": 2048000,
      "rowLimit": 10000
     },
     "inputWidgets": {},
     "nuid": "50aadebc-a1f0-4126-9d55-275de8456509",
     "showTitle": false,
     "tableResultSettingsMap": {},
     "title": ""
    }
   },
   "outputs": [
    {
     "output_type": "stream",
     "name": "stdout",
     "output_type": "stream",
     "text": [
      "root\n |-- timestamp: timestamp (nullable = true)\n |-- sending_address: string (nullable = true)\n |-- receiving_address: string (nullable = true)\n |-- amount: string (nullable = true)\n |-- transaction_type: string (nullable = true)\n |-- location_region: string (nullable = true)\n |-- ip_prefix: double (nullable = true)\n |-- login_frequency: integer (nullable = true)\n |-- session_duration: integer (nullable = true)\n |-- purchase_pattern: string (nullable = true)\n |-- age_group: string (nullable = true)\n |-- risk_score: string (nullable = true)\n |-- anomaly: string (nullable = true)\n\n"
     ]
    }
   ],
   "source": [
    "#Verificação de tipagem dos dados\n",
    "df_cleaned.printSchema()"
   ]
  },
  {
   "cell_type": "markdown",
   "metadata": {
    "application/vnd.databricks.v1+cell": {
     "cellMetadata": {
      "byteLimit": 2048000,
      "rowLimit": 10000
     },
     "inputWidgets": {},
     "nuid": "48c06dd5-bd23-42c4-a65a-171de6f0d2cb",
     "showTitle": false,
     "tableResultSettingsMap": {},
     "title": ""
    }
   },
   "source": [
    "---\n",
    "### 3. Criação das Tabelas-Resultado\n",
    "**Tabela 1:** Média de \"risk_score\" por \"location_region\"\n",
    "\n",
    "Calcular a média do \"risk_score\" para cada \"location_region\" e ordenar de forma decrescente.\n"
   ]
  },
  {
   "cell_type": "code",
   "execution_count": 0,
   "metadata": {
    "application/vnd.databricks.v1+cell": {
     "cellMetadata": {
      "byteLimit": 2048000,
      "rowLimit": 10000
     },
     "inputWidgets": {},
     "nuid": "46140055-82b9-44da-b0d4-601f46aa8499",
     "showTitle": false,
     "tableResultSettingsMap": {},
     "title": ""
    }
   },
   "outputs": [
    {
     "output_type": "display_data",
     "data": {
      "text/html": [
       "<style scoped>\n",
       "  .table-result-container {\n",
       "    max-height: 300px;\n",
       "    overflow: auto;\n",
       "  }\n",
       "  table, th, td {\n",
       "    border: 1px solid black;\n",
       "    border-collapse: collapse;\n",
       "  }\n",
       "  th, td {\n",
       "    padding: 5px;\n",
       "  }\n",
       "  th {\n",
       "    text-align: left;\n",
       "  }\n",
       "</style><div class='table-result-container'><table class='table-result'><thead style='background-color: white'><tr><th>location_region</th><th>avg_risk_score</th></tr></thead><tbody><tr><td>North America</td><td>45.155840047473845</td></tr><tr><td>South America</td><td>45.13682993481994</td></tr><tr><td>Asia</td><td>44.99409205308348</td></tr><tr><td>Africa</td><td>44.901247845093955</td></tr><tr><td>0</td><td>44.90044636570302</td></tr><tr><td>Europe</td><td>44.59929868093872</td></tr></tbody></table></div>"
      ]
     },
     "metadata": {
      "application/vnd.databricks.v1+output": {
       "addedWidgets": {},
       "aggData": [],
       "aggError": "",
       "aggOverflow": false,
       "aggSchema": [],
       "aggSeriesLimitReached": false,
       "aggType": "",
       "arguments": {},
       "columnCustomDisplayInfos": {},
       "data": [
        [
         "North America",
         45.155840047473845
        ],
        [
         "South America",
         45.13682993481994
        ],
        [
         "Asia",
         44.99409205308348
        ],
        [
         "Africa",
         44.901247845093955
        ],
        [
         "0",
         44.90044636570302
        ],
        [
         "Europe",
         44.59929868093872
        ]
       ],
       "datasetInfos": [],
       "dbfsResultPath": null,
       "isJsonSchema": true,
       "metadata": {},
       "overflow": false,
       "plotOptions": {
        "customPlotOptions": {},
        "displayType": "table",
        "pivotAggregation": null,
        "pivotColumns": null,
        "xColumns": null,
        "yColumns": null
       },
       "removedWidgets": [],
       "schema": [
        {
         "metadata": "{}",
         "name": "location_region",
         "type": "\"string\""
        },
        {
         "metadata": "{}",
         "name": "avg_risk_score",
         "type": "\"double\""
        }
       ],
       "type": "table"
      }
     },
     "output_type": "display_data"
    },
    {
     "output_type": "stream",
     "name": "stdout",
     "output_type": "stream",
     "text": [
      "6\n"
     ]
    }
   ],
   "source": [
    "from pyspark.sql import functions as F\n",
    "\n",
    "location_risk_avg = df_cleaned.groupBy(\"location_region\").agg(\n",
    "    F.avg(\"risk_score\").alias(\"avg_risk_score\")\n",
    ").orderBy(\"avg_risk_score\", ascending=False)\n",
    "\n",
    "display(location_risk_avg) \n",
    "\n",
    "print(location_risk_avg.count())\n"
   ]
  },
  {
   "cell_type": "markdown",
   "metadata": {
    "application/vnd.databricks.v1+cell": {
     "cellMetadata": {
      "byteLimit": 2048000,
      "rowLimit": 10000
     },
     "inputWidgets": {},
     "nuid": "6973bc7a-1876-4245-9b33-9a114df6dd26",
     "showTitle": false,
     "tableResultSettingsMap": {},
     "title": ""
    }
   },
   "source": [
    "**Tabela 2:** Top 3 \"receiving_address\" com maior \"amount\" para transações mais recentes de tipo \"sale\"\n",
    "\n",
    "Primeiro, vamos filtrar as transações do tipo \"sale\", e depois identificar as transações mais recentes para cada \"receiving_address\", considerando a coluna \"timestamp\". \n",
    "\n",
    "Finalmente, ordenaremos por \"amount\" e pegaremos os três maiores valores."
   ]
  },
  {
   "cell_type": "code",
   "execution_count": 0,
   "metadata": {
    "application/vnd.databricks.v1+cell": {
     "cellMetadata": {
      "byteLimit": 2048000,
      "rowLimit": 10000
     },
     "inputWidgets": {},
     "nuid": "254768fa-e910-44f1-8b2f-2bca50a19358",
     "showTitle": false,
     "tableResultSettingsMap": {},
     "title": ""
    }
   },
   "outputs": [
    {
     "output_type": "display_data",
     "data": {
      "text/html": [
       "<style scoped>\n",
       "  .table-result-container {\n",
       "    max-height: 300px;\n",
       "    overflow: auto;\n",
       "  }\n",
       "  table, th, td {\n",
       "    border: 1px solid black;\n",
       "    border-collapse: collapse;\n",
       "  }\n",
       "  th, td {\n",
       "    padding: 5px;\n",
       "  }\n",
       "  th {\n",
       "    text-align: left;\n",
       "  }\n",
       "</style><div class='table-result-container'><table class='table-result'><thead style='background-color: white'><tr><th>receiving_address</th><th>amount</th><th>timestamp</th></tr></thead><tbody><tr><td>0xfa45921781154db0fcb8468b20a368e48cc8bf4f</td><td>none</td><td>2023-12-29T22:31:22.000+0000</td></tr><tr><td>0x858170b93f5c5c1a33417255bb3f3ff639454ee5</td><td>none</td><td>2024-01-02T05:22:27.000+0000</td></tr><tr><td>0x577754308538f4be10a41afb4f8900cd24d7098f</td><td>none</td><td>2024-01-02T12:28:20.000+0000</td></tr></tbody></table></div>"
      ]
     },
     "metadata": {
      "application/vnd.databricks.v1+output": {
       "addedWidgets": {},
       "aggData": [],
       "aggError": "",
       "aggOverflow": false,
       "aggSchema": [],
       "aggSeriesLimitReached": false,
       "aggType": "",
       "arguments": {},
       "columnCustomDisplayInfos": {},
       "data": [
        [
         "0xfa45921781154db0fcb8468b20a368e48cc8bf4f",
         "none",
         "2023-12-29T22:31:22.000+0000"
        ],
        [
         "0x858170b93f5c5c1a33417255bb3f3ff639454ee5",
         "none",
         "2024-01-02T05:22:27.000+0000"
        ],
        [
         "0x577754308538f4be10a41afb4f8900cd24d7098f",
         "none",
         "2024-01-02T12:28:20.000+0000"
        ]
       ],
       "datasetInfos": [],
       "dbfsResultPath": null,
       "isJsonSchema": true,
       "metadata": {},
       "overflow": false,
       "plotOptions": {
        "customPlotOptions": {},
        "displayType": "table",
        "pivotAggregation": null,
        "pivotColumns": null,
        "xColumns": null,
        "yColumns": null
       },
       "removedWidgets": [],
       "schema": [
        {
         "metadata": "{}",
         "name": "receiving_address",
         "type": "\"string\""
        },
        {
         "metadata": "{}",
         "name": "amount",
         "type": "\"string\""
        },
        {
         "metadata": "{}",
         "name": "timestamp",
         "type": "\"timestamp\""
        }
       ],
       "type": "table"
      }
     },
     "output_type": "display_data"
    }
   ],
   "source": [
    "# Filtrando transações do tipo 'sale'\n",
    "sale_transactions = df_cleaned.filter(df_cleaned[\"transaction_type\"] == \"sale\")\n",
    "\n",
    "# Encontrar a transação mais recente para cada 'receiving_address'\n",
    "from pyspark.sql.window import Window\n",
    "\n",
    "window_spec = Window.partitionBy(\"receiving_address\").orderBy(F.col(\"timestamp\").desc())\n",
    "\n",
    "# Adicionar uma coluna para a ordem da transação mais recente\n",
    "sale_transactions_recent = sale_transactions.withColumn(\"rank\", F.row_number().over(window_spec)) \\\n",
    "    .filter(F.col(\"rank\") == 1)  # Filtra apenas as transações mais recentes\n",
    "\n",
    "# Obter os 3 maiores 'amount' para cada 'receiving_address'\n",
    "top_3_receiving_addresses = sale_transactions_recent.orderBy(\"amount\", ascending=False) \\\n",
    "    .select(\"receiving_address\", \"amount\", \"timestamp\").limit(3)\n",
    "\n",
    "display(top_3_receiving_addresses)\n"
   ]
  },
  {
   "cell_type": "markdown",
   "metadata": {
    "application/vnd.databricks.v1+cell": {
     "cellMetadata": {
      "byteLimit": 2048000,
      "rowLimit": 10000
     },
     "inputWidgets": {},
     "nuid": "0aa3e86f-cd29-46a9-9e27-342a64d2f198",
     "showTitle": false,
     "tableResultSettingsMap": {},
     "title": ""
    }
   },
   "source": [
    "---\n",
    "### 4. Monitoramento de Qualidade dos Dados\n",
    "Agora, vamos calcular alguns indicadores de qualidade dos dados, como a quantidade total de registros, registros inseridos e registros com erro."
   ]
  },
  {
   "cell_type": "code",
   "execution_count": 0,
   "metadata": {
    "application/vnd.databricks.v1+cell": {
     "cellMetadata": {
      "byteLimit": 2048000,
      "rowLimit": 10000
     },
     "inputWidgets": {},
     "nuid": "466ce940-5d10-494e-bbd1-b9538588e623",
     "showTitle": false,
     "tableResultSettingsMap": {},
     "title": ""
    }
   },
   "outputs": [
    {
     "output_type": "stream",
     "name": "stdout",
     "output_type": "stream",
     "text": [
      "Total de Registros: 9291894\nRegistros Limpos: 9291894\nRegistros com Erro: 0\nPorcentagem de Erros: 0.00%\n"
     ]
    }
   ],
   "source": [
    "# Qualidade dos dados\n",
    "total_records = df.count()  # Total de registros no DataFrame\n",
    "cleaned_records = df_cleaned.count()  # Total de registros após limpeza\n",
    "errors = total_records - cleaned_records  # Registros com erro\n",
    "\n",
    "# Calcular a porcentagem de erros\n",
    "error_percentage = (errors / total_records) * 100\n",
    "\n",
    "# Mostrar métricas de qualidade\n",
    "print(f\"Total de Registros: {total_records}\")\n",
    "print(f\"Registros Limpos: {cleaned_records}\")\n",
    "print(f\"Registros com Erro: {errors}\")\n",
    "print(f\"Porcentagem de Erros: {error_percentage:.2f}%\")\n"
   ]
  },
  {
   "cell_type": "markdown",
   "metadata": {
    "application/vnd.databricks.v1+cell": {
     "cellMetadata": {},
     "inputWidgets": {},
     "nuid": "1a74969a-7789-4c9b-a4fa-ed97b51e34af",
     "showTitle": false,
     "tableResultSettingsMap": {},
     "title": ""
    }
   },
   "source": [
    "### 4.1 Monitoramento aprimorado"
   ]
  },
  {
   "cell_type": "code",
   "execution_count": 0,
   "metadata": {
    "application/vnd.databricks.v1+cell": {
     "cellMetadata": {
      "byteLimit": 2048000,
      "rowLimit": 10000
     },
     "inputWidgets": {},
     "nuid": "5a17756b-6f3d-44ed-8b1f-6a9042791556",
     "showTitle": false,
     "tableResultSettingsMap": {},
     "title": ""
    }
   },
   "outputs": [
    {
     "output_type": "stream",
     "name": "stdout",
     "output_type": "stream",
     "text": [
      "total_records: 9291894\nnull_counts: {'timestamp': 0, 'sending_address': 0, 'receiving_address': 0, 'amount': 0, 'transaction_type': 0, 'location_region': 0, 'ip_prefix': 0, 'login_frequency': 0, 'session_duration': 0, 'purchase_pattern': 0, 'age_group': 0, 'risk_score': 0, 'anomaly': 0}\ntype_errors: {'amount': 50000, 'risk_score': 50226}\nduplicate_count: 2\nconsistency_errors: {'invalid_amount': 0, 'amount_out_of_range': 0, 'invalid_risk_score': 0, 'invalid_timestamp': 0, 'invalid_transaction_type': 767639, 'invalid_receiving_address': 0, 'invalid_sending_address': 0}\nerror_percentage: 9.3400441287858\n"
     ]
    }
   ],
   "source": [
    "from pyspark.sql import functions as F\n",
    "from pyspark.sql.types import StringType, FloatType, LongType\n",
    "\n",
    "# Função para avaliar qualidade dos dados com validações mais completas\n",
    "def assess_data_quality(df, expected_schema):\n",
    "    quality_report = {}\n",
    "\n",
    "    # 1. Quantidade total de registros\n",
    "    total_records = df.count()\n",
    "    quality_report['total_records'] = total_records\n",
    "\n",
    "    # 2. Quantidade de registros com valores nulos\n",
    "    null_counts = {}\n",
    "    for col_name in df.columns:\n",
    "        null_counts[col_name] = df.filter(F.col(col_name).isNull()).count()\n",
    "    quality_report['null_counts'] = null_counts\n",
    "\n",
    "    # 3. Erros de tipo de dados (dados fora do tipo esperado)\n",
    "    type_errors = {}\n",
    "    for col_name, expected_type in expected_schema.items():\n",
    "        # Verifica se a coluna tem o tipo correto\n",
    "        invalid_type_count = df.filter(F.col(col_name).cast(expected_type).isNull()).count()\n",
    "        if invalid_type_count > 0:\n",
    "            type_errors[col_name] = invalid_type_count\n",
    "    quality_report['type_errors'] = type_errors\n",
    "\n",
    "    # 4. Duplicação de registros (verifica duplicados)\n",
    "    duplicate_count = df.count() - df.dropDuplicates().count()\n",
    "    quality_report['duplicate_count'] = duplicate_count\n",
    "\n",
    "    # 5. Erros de consistência: Exemplo: valores fora de intervalo, dados não formatados corretamente\n",
    "    consistency_errors = {}\n",
    "    \n",
    "    # Verificar se 'amount' é maior que 0 e dentro de um intervalo razoável\n",
    "    consistency_errors['invalid_amount'] = df.filter(F.col(\"amount\") <= 0).count()\n",
    "    consistency_errors['amount_out_of_range'] = df.filter((F.col(\"amount\") > 1000000) | (F.col(\"amount\") < 0)).count()  # Exemplo de intervalo\n",
    "    \n",
    "    # Verificar se 'risk_score' está dentro do intervalo de 0 a 100\n",
    "    consistency_errors['invalid_risk_score'] = df.filter((F.col(\"risk_score\") < 0) | (F.col(\"risk_score\") > 100)).count()\n",
    "    \n",
    "    # Verificar se 'timestamp' não está no futuro\n",
    "    consistency_errors['invalid_timestamp'] = df.filter(F.col(\"timestamp\") > F.current_timestamp()).count()\n",
    "\n",
    "    \n",
    "    # Verificar se 'transaction_type' é válido (deve ser 'sale', 'purchase' ou 'transfer')\n",
    "    consistency_errors['invalid_transaction_type'] = df.filter(~F.col(\"transaction_type\").isin(\"sale\", \"purchase\", \"transfer\")).count()\n",
    "    \n",
    "    # Verificar se o endereço 'receiving_address' tem o formato esperado (exemplo: comprimento fixo ou formato específico)\n",
    "    consistency_errors['invalid_receiving_address'] = df.filter(F.length(F.col(\"receiving_address\")) != 42).count()  # Exemplo de formato de endereço Ethereum\n",
    "\n",
    "    # Verificar a validade do 'sending_address'\n",
    "    consistency_errors['invalid_sending_address'] = df.filter(F.length(F.col(\"sending_address\")) != 42).count()\n",
    "\n",
    "    quality_report['consistency_errors'] = consistency_errors\n",
    "\n",
    "    # 6. Conformidade dos dados (percentual de erros)\n",
    "    total_errors = sum(null_counts.values()) + sum(type_errors.values()) + duplicate_count + sum(consistency_errors.values())\n",
    "    error_percentage = (total_errors / total_records) * 100 if total_records > 0 else 0\n",
    "    quality_report['error_percentage'] = error_percentage\n",
    "\n",
    "    return quality_report\n",
    "\n",
    "# Definindo o esquema esperado (exemplo)\n",
    "expected_schema = {\n",
    "    \"timestamp\": \"long\",\n",
    "    \"sending_address\": \"string\",\n",
    "    \"receiving_address\": \"string\",\n",
    "    \"amount\": \"float\",\n",
    "    \"transaction_type\": \"string\",\n",
    "    \"location_region\": \"string\",\n",
    "    \"ip_prefix\": \"string\",\n",
    "    \"login_frequency\": \"int\",\n",
    "    \"session_duration\": \"int\",\n",
    "    \"purchase_pattern\": \"string\",\n",
    "    \"age_group\": \"string\",\n",
    "    \"risk_score\": \"float\",\n",
    "    \"anomaly\": \"string\"\n",
    "}\n",
    "\n",
    "# Chame a função para avaliar a qualidade dos dados no DataFrame\n",
    "quality_report = assess_data_quality(df_cleaned, expected_schema)\n",
    "\n",
    "# Exibindo o relatório de qualidade\n",
    "for key, value in quality_report.items():\n",
    "    print(f\"{key}: {value}\")\n"
   ]
  }
 ],
 "metadata": {
  "application/vnd.databricks.v1+notebook": {
   "dashboards": [],
   "environmentMetadata": null,
   "language": "python",
   "notebookMetadata": {
    "pythonIndentUnit": 2
   },
   "notebookName": "Teste Localiza - Engenharia de Dados",
   "widgets": {}
  }
 },
 "nbformat": 4,
 "nbformat_minor": 0
}
